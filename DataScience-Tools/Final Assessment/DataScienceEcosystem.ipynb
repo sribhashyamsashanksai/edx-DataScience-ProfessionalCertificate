{
 "cells": [
  {
   "cell_type": "markdown",
   "metadata": {},
   "source": [
    "# Data Science Tools and Ecosystem"
   ]
  },
  {
   "cell_type": "markdown",
   "metadata": {},
   "source": [
    "In this notebook, Data Science Tools and Ecosystem are summarized.\r\n"
   ]
  },
  {
   "cell_type": "markdown",
   "metadata": {},
   "source": [
    "Some of the popular languages that Data Scientists use are:\r\n",
    "\r\n",
    "1.SQL\r\n",
    "\r\n",
    "2.Python\r\n",
    "\r\n",
    "3.Julia"
   ]
  },
  {
   "cell_type": "markdown",
   "metadata": {},
   "source": [
    "Commonly Used Libraries by Data Scientists\r\n",
    "\r\n",
    "Some of the commonly used libraries by Data Scientists include:\r\n",
    "\r\n",
    "1. **NumPy**: Fundamental package for numerical computing with powerful N-dimensional array objects and useful linear algebra functions.\r\n",
    "\r\n",
    "2. **Pandas**: Provides data structures and data analysis tools, particularly for manipulating and analyzing structured data.\r\n",
    "\r\n",
    "3. **Matplotlib**: Comprehensive library for creating static, interactive, and animated visualizations in Python.\r\n",
    "\r\n",
    "4. **ggplot2**: Data visualization package based on the Grammar of Graphics, providing a powerful and flexible system for creating elegant and complex plots.\r\n",
    "\r\n",
    "5. **Seaborn**: Statistical data visualization library based on Matplotlib, providing a high-level interface for drawing attractive and informative statistical graphics.eaborn"
   ]
  },
  {
   "cell_type": "markdown",
   "metadata": {},
   "source": [
    "Data Science Tools\r\n",
    "\r\n",
    "| Data Science Tools |\r\n",
    "|---------------------|\r\n",
    "| Jupyter Notebook    |\r\n",
    "| RStudio             |\r\n",
    "| VS Code             |"
   ]
  },
  {
   "cell_type": "markdown",
   "metadata": {},
   "source": [
    "### Below are a few examples of evaluating arithmetic expressions in Python.lt_exponentiation)\n"
   ]
  },
  {
   "cell_type": "code",
   "execution_count": 3,
   "metadata": {},
   "outputs": [
    {
     "name": "stdout",
     "output_type": "stream",
     "text": [
      "Addition: 19\n",
      "Subtraction: 19\n",
      "Multiplication: 88\n",
      "Division: 10.0\n",
      "Exponentiation: 287496\n"
     ]
    }
   ],
   "source": [
    "# Addition\n",
    "result_addition = 14 + 5\n",
    "print(\"Addition:\", result_addition)\n",
    "\n",
    "# Subtraction\n",
    "result_subtraction = 27 - 8\n",
    "print(\"Subtraction:\", result_subtraction)\n",
    "\n",
    "# Multiplication\n",
    "result_multiplication = 22 * 4\n",
    "print(\"Multiplication:\", result_multiplication)\n",
    "\n",
    "# Division\n",
    "result_division = 1000 / 100\n",
    "print(\"Division:\", result_division)\n",
    "\n",
    "# Exponentiation\n",
    "result_exponentiation = 66 ** 3\n",
    "print(\"Exponentiation:\", result_exponentiation)"
   ]
  },
  {
   "cell_type": "code",
   "execution_count": 7,
   "metadata": {},
   "outputs": [
    {
     "name": "stdout",
     "output_type": "stream",
     "text": [
      "17\n"
     ]
    }
   ],
   "source": [
    "#Create a code cell to multiply and add numbers\n",
    "result = (3 * 4) + 5\n",
    "print (result)"
   ]
  },
  {
   "cell_type": "code",
   "execution_count": 9,
   "metadata": {},
   "outputs": [
    {
     "name": "stdout",
     "output_type": "stream",
     "text": [
      "3.3333333333333335\n"
     ]
    }
   ],
   "source": [
    "#convert minutes into hours \n",
    "hours= 200 / 60\n",
    "print (hours)"
   ]
  },
  {
   "cell_type": "markdown",
   "metadata": {},
   "source": [
    "**Objectives:**\r\n",
    "\r\n",
    "- List popular languages for Data Science.\r\n",
    "- Introduce common libraries used in Data Science.\r\n",
    "- Provide examples of arithmetic expressions in Python."
   ]
  },
  {
   "cell_type": "markdown",
   "metadata": {},
   "source": [
    "## Sribhashyam Sashank Sai"
   ]
  }
 ],
 "metadata": {
  "kernelspec": {
   "display_name": "python3",
   "language": "python",
   "name": "python3"
  },
  "language_info": {
   "codemirror_mode": {
    "name": "ipython",
    "version": 3
   },
   "file_extension": ".py",
   "mimetype": "text/x-python",
   "name": "python",
   "nbconvert_exporter": "python",
   "pygments_lexer": "ipython3",
   "version": "3.11.5"
  }
 },
 "nbformat": 4,
 "nbformat_minor": 4
}
